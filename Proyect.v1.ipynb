{
 "cells": [
  {
   "cell_type": "markdown",
   "id": "cb5ffe1f-d388-42da-a70b-5c2e6f75c320",
   "metadata": {
    "tags": []
   },
   "source": [
    "#### 1. Importar librerias"
   ]
  },
  {
   "cell_type": "code",
   "execution_count": 1,
   "id": "461e3443-cf94-466e-8259-266d7f75654c",
   "metadata": {},
   "outputs": [],
   "source": [
    "import pandas as pd\n",
    "import numpy as np\n",
    "import datetime\n",
    "import warnings\n",
    "\n",
    "warnings.filterwarnings('ignore')\n",
    "warnings.filterwarnings(\"ignore\", message=\"numpy.ufunc size changed\")\n",
    "\n",
    "import matplotlib.pyplot as plt\n",
    "import seaborn as sns\n",
    "%matplotlib inline\n",
    "\n",
    "pd.set_option('display.max_columns', None)"
   ]
  },
  {
   "cell_type": "markdown",
   "id": "d8d4fb16-bfd3-41ee-a383-d7c860f64a85",
   "metadata": {},
   "source": [
    "#### 2. Importar data"
   ]
  },
  {
   "cell_type": "code",
   "execution_count": 2,
   "id": "7f44bab0-ed56-4220-bc44-48c693d19aca",
   "metadata": {},
   "outputs": [],
   "source": [
    "df = pd.read_sas(\"./LLCP2020.XPT\")"
   ]
  },
  {
   "cell_type": "code",
   "execution_count": 3,
   "id": "c9d88aae-f10f-49f6-9084-064d19ff5a76",
   "metadata": {},
   "outputs": [
    {
     "data": {
      "text/plain": [
       "2.0    376058\n",
       "1.0     22598\n",
       "7.0      2962\n",
       "9.0       337\n",
       "Name: CVDCRHD4, dtype: int64"
      ]
     },
     "execution_count": 3,
     "metadata": {},
     "output_type": "execute_result"
    }
   ],
   "source": [
    "df['CVDCRHD4'].value_counts()"
   ]
  },
  {
   "cell_type": "markdown",
   "id": "516a2bdb-9bc8-49b9-9529-a65ba24d855c",
   "metadata": {},
   "source": [
    "#### 3. Eliminamos las columnas que no son relevantes"
   ]
  },
  {
   "cell_type": "code",
   "execution_count": 4,
   "id": "c435393b-9de0-4c1b-98f7-ab291cf1ceff",
   "metadata": {},
   "outputs": [],
   "source": [
    "df.drop(['FMONTH', 'IMONTH', 'IDAY', 'IYEAR', 'IDATE', 'SAFETIME', 'CTELNUM1', 'CELLFON5', 'SEQNO', '_PSU', 'CTELENM1', 'PVTRESD1', 'COLGHOUS', 'STATERE1', 'CELPHONE', 'NUMADULT', 'NUMADULT', 'LANDSEX', 'NUMMEN', 'NUMWOMEN', 'RESPSLCT', 'LADULT1', 'COLGSEX', 'PVTRESD3', 'CCLGHOUS', 'CSTATE1', 'LANDLINE', 'HHADULT', 'CELLSEX', 'POORHLTH', 'PERSDOC2', 'MEDCOST', 'ASTHMA3', 'CHCOCNCR', 'CHCCOPD2', 'HAVARTH4', 'CHCKDNY2', 'DIABAGE3', 'LASTDEN4', 'RMVTETH4', 'RENTHOM1', 'NUMHHOL3', 'NUMPHON3', 'CPDEMO1B', 'CHILDREN', 'PREGNANT', 'HEIGHT3', 'DEAF', 'BLIND', 'DECIDE', 'DIFFWALK', 'DIFFDRES', 'DIFFALON', 'SMOKE100', 'SMOKDAY2', 'STOPSMK2', 'USENOW3', 'AVEDRNK3', 'DRNK3GE5', 'MAXDRNKS', 'FLUSHOT7', 'FLSHTMY3', 'SHINGLE2', 'PNEUVAC4', 'FALL12MN', 'FALLINJ4', 'SEATBELT', 'DRNKDRI2', 'HADMAM', 'HOWLONG', 'HADPAP2', 'LASTPAP2', 'HPVTEST', 'HPLSTTST', 'HADHYST2', 'PCPSAAD3', 'PCPSADI1', 'PCPSARE1', 'PSATEST1', 'PSATIME', 'PCPSARS1', 'COLNSCPY', 'COLNTEST', 'SIGMSCPY', 'SIGMTEST', 'BLDSTOL1', 'LSTBLDS4', 'STOOLDNA', 'SDNATEST', 'VIRCOLON', 'VCLNTEST', 'HIVTST7', 'HIVTSTD3',  'HIVRISK5', 'PREDIAB1', 'PDIABTST', 'INSULIN1', 'BLDSUGAR', 'FEETCHK3', 'DOCTDIAB', 'CHKHEMO3', 'FEETCHK', 'EYEEXAM1', 'DIABEYE', 'DIABEDU', 'TOLDCFS', 'HAVECFS', 'WORKCFS', 'TOLDHEPC', 'TRETHEPC', 'PRIRHEPC', 'HAVEHEPC', 'HAVEHEPB', 'MEDSHEPB', 'HLTHCVR1', 'CIMEMLOS', 'CDHOUSE', 'CDASSIST', 'CDHELP', 'CDSOCIAL', 'CDDISCUS', 'CAREGIV1'] , axis=1, inplace=True)   "
   ]
  },
  {
   "cell_type": "code",
   "execution_count": 5,
   "id": "7bc11784-fbbd-4ed0-8dcc-888be454fffe",
   "metadata": {},
   "outputs": [
    {
     "data": {
      "text/plain": [
       "(401958, 158)"
      ]
     },
     "execution_count": 5,
     "metadata": {},
     "output_type": "execute_result"
    }
   ],
   "source": [
    "df.shape"
   ]
  },
  {
   "cell_type": "code",
   "execution_count": 6,
   "id": "8701aeed-20ec-4676-9ce9-72383330437c",
   "metadata": {},
   "outputs": [],
   "source": [
    "df.drop(['CRGVREL4', 'CRGVLNG1', 'CRGVHRS1', 'CRGVPRB3', 'CRGVALZD', 'CRGVPER1', 'CRGVHOU1', 'ECIGARET', 'MARIJAN1', 'USEMRJN2',  'RSNMRJN1', 'LCSFIRST', 'LCSLAST', 'LCSCTSCN', 'CNCRDIFF', 'CNCRAGE', 'CSRVTRT3', 'CSRVDOC1', 'CSRVSUM', 'CSRVRTRN', 'CSRVINST', 'CSRVINSR', 'CSRVDEIN', 'CSRVCLIN', 'CSRVPAIN', 'CSRVCTL2', 'PCPSADE1', 'PCDMDEC1', 'HPVADVC4', 'HPVADSHT', 'TETANUS1', 'IMFVPLA1', 'SOMALE', 'SOFEMALE', 'TRNSGNDR', 'ACEDEPRS', 'ACEDRINK', 'ACEDRUGS', 'ACEPRISN', 'ACEDIVRC', 'ACEPUNCH', 'ACEHURT1', 'ACESWEAR', 'ACETOUCH', 'ACETTHEM', 'ACEHVSEX', 'RCSGENDR', 'RCSRLTN2', 'CASTHDX2', 'CASTHNO2', 'QSTVER', 'QSTLANG', '_METSTAT', '_URBSTAT', 'MSCODE', '_STSTR', '_STRWT', '_RAWRAKE', '_WT2RAKE', '_IMPRACE', '_CHISPNC', '_CRACE1', '_CPRACE', '_CLLCPWT', '_DUALUSE', '_DUALCOR', '_LLCPWT2', '_LLCPWT', '_RFHLTH', '_PHYS14D', '_MENT14D', '_HCVU651', '_TOTINDA', '_MICHD', '_LTASTH1', '_CASTHM1', '_ASTHMS1', '_DRDXAR2', '_EXTETH3', '_ALTETH3', '_DENVST3', '_PRACE1', '_MRACE1', '_HISPANC', '_RACE', '_RACEG21', '_RACEGR3', '_RACEPRV', '_SEX', 'BIRTHSEX', '_AGEG5YR', '_AGE65YR', '_AGE80', '_AGE_G', 'HTIN4', 'HTM4', 'WTKG3', '_BMI5', '_BMI5CAT', '_RFBMI5', '_CHLDCNT', '_EDUCAG', '_INCOMG', '_SMOKER3', '_RFSMOK3', 'DRNKANY5', 'DROCDY3_', '_RFBING5', '_DRNKWK1', '_RFDRHV7', '_FLSHOT7', '_PNEUMO3', '_RFSEAT2', '_RFSEAT3', '_DRNKDRV', '_RFMAM22', '_MAM5023', '_RFPAP35', '_RFPSA23', '_CLNSCPY', '_SGMSCPY', '_SGMS10Y', '_RFBLDS4', '_STOLDNA', '_VIRCOLN', '_SBONTIM', '_CRCREC1', '_AIDTST4'] , axis=1, inplace=True)"
   ]
  },
  {
   "cell_type": "code",
   "execution_count": 7,
   "id": "67ba29c7-d29f-4a89-994b-b9f73d3921be",
   "metadata": {},
   "outputs": [
    {
     "data": {
      "text/plain": [
       "(401958, 30)"
      ]
     },
     "execution_count": 7,
     "metadata": {},
     "output_type": "execute_result"
    }
   ],
   "source": [
    "df.shape"
   ]
  },
  {
   "cell_type": "markdown",
   "id": "e06a5e40-3ed6-41f7-b441-7fd48100aa92",
   "metadata": {
    "tags": []
   },
   "source": [
    "#### 4. Eliminamos aquellos cuestionarios que no fueron respondidos completamente"
   ]
  },
  {
   "cell_type": "code",
   "execution_count": 8,
   "id": "d59a8e00-6f76-4ece-b3e7-03add6f7fd30",
   "metadata": {
    "tags": []
   },
   "outputs": [],
   "source": [
    "df = df.query('MARITAL != 9 and MARITAL != \"\" and EDUCA != 9 and EDUCA != \"\" and VETERAN3 != \"\" and VETERAN3 != 9 and VETERAN3 != 7 and EMPLOY1 != 9 and EMPLOY1 != \"\" and INCOME2 != \"\" and INCOME2 != 99 and INCOME2 != 77 and WEIGHT2 != 9999 and WEIGHT2 != \"\" and LASTSMK2 != \"\" and LASTSMK2 != 99 and LASTSMK2 != 77 and ALCDAY5 != 999 and ALCDAY5 != \"\" and ECIGNOW != \"\" and ECIGNOW != 9 and ECIGNOW != 7 and LCSNUMCG != 777 and LCSNUMCG != 999 and LCSNUMCG != \"\" and CNCRTYP1 != \"\" and CNCRTYP1 != 77 and CNCRTYP1 != 99')"
   ]
  },
  {
   "cell_type": "code",
   "execution_count": 9,
   "id": "1289deb1-529f-4c6d-a71b-71e395b41bd4",
   "metadata": {},
   "outputs": [],
   "source": [
    "df = df.query('DISPCODE==1100 and GENHLTH != 9 and GENHLTH != \"\" and MENTHLTH != 99 and MENTHLTH != 77 and MENTHLTH != \"\" and HLTHPLN1 != 7 and HLTHPLN1 != 9 and HLTHPLN1 != \"\" and CHECKUP1 != 9 and CHECKUP1 != \"\" and EXERANY2 != 9 and EXERANY2 != 7 and EXERANY2 != \"\" and SLEPTIM1 != \"\" and SLEPTIM1 != 99 and SLEPTIM1 != 77 and CVDINFR4 != \"\" and CVDINFR4 != 7 and CVDINFR4 != 9 and CVDCRHD4 != \"\" and CVDCRHD4 != 7 and CVDCRHD4 != 9 and CVDSTRK3 != 9 and CVDSTRK3 != 7 and CVDSTRK3 != \"\" and ASTHNOW != 9 and ASTHNOW != 7 and ASTHNOW != \"\" and ASTHNOW != \"\" and CHCSCNCR != 9 and CHCSCNCR != 7 and CHCSCNCR != \"\" and ADDEPEV3 != \"\" and ADDEPEV3 != 7 and ADDEPEV3 != 9 and DIABETE4 != \"\" and DIABETE4 != 7 and DIABETE4 != 9 and CADULT1== 1')"
   ]
  },
  {
   "cell_type": "code",
   "execution_count": 10,
   "id": "1192d069-9cba-4fb3-bc12-39e5a36898db",
   "metadata": {},
   "outputs": [
    {
     "data": {
      "text/plain": [
       "(171123, 30)"
      ]
     },
     "execution_count": 10,
     "metadata": {},
     "output_type": "execute_result"
    }
   ],
   "source": [
    "df.shape"
   ]
  },
  {
   "cell_type": "markdown",
   "id": "322a2876-0083-4067-885e-1b335a9ee67f",
   "metadata": {},
   "source": [
    "#### 5. Creamos un database ya limpio"
   ]
  },
  {
   "cell_type": "code",
   "execution_count": 11,
   "id": "f542e764-a71d-49ed-8bbb-f596cc0d1579",
   "metadata": {},
   "outputs": [],
   "source": [
    "df[df['DISPCODE']==1100].to_csv(\"BBDD_11002.csv\")"
   ]
  },
  {
   "cell_type": "markdown",
   "id": "16eefbc9-eb0b-411c-b00f-a27abeac3a83",
   "metadata": {},
   "source": [
    "#### 6. Sigue el proceso de limpieza"
   ]
  },
  {
   "cell_type": "code",
   "execution_count": 12,
   "id": "2e85a07d-f44b-4a9e-a5d3-ba2d1d75aa0c",
   "metadata": {},
   "outputs": [],
   "source": [
    "data = pd.read_csv(\"./BBDD_11002.csv\")"
   ]
  },
  {
   "cell_type": "code",
   "execution_count": 13,
   "id": "df46af6e-51ff-4d8e-808e-fa62d5337944",
   "metadata": {},
   "outputs": [
    {
     "data": {
      "text/plain": [
       "Unnamed: 0     0.00\n",
       "_STATE         0.00\n",
       "DISPCODE       0.00\n",
       "CADULT1        0.00\n",
       "SEXVAR         0.00\n",
       "GENHLTH        0.00\n",
       "PHYSHLTH       0.00\n",
       "MENTHLTH       0.00\n",
       "HLTHPLN1       0.00\n",
       "CHECKUP1       0.00\n",
       "EXERANY2       0.00\n",
       "SLEPTIM1       0.00\n",
       "CVDINFR4       0.00\n",
       "CVDCRHD4       0.00\n",
       "CVDSTRK3       0.00\n",
       "ASTHNOW       86.27\n",
       "CHCSCNCR       0.00\n",
       "ADDEPEV3       0.00\n",
       "DIABETE4       0.00\n",
       "MARITAL        0.00\n",
       "EDUCA          0.00\n",
       "VETERAN3       0.00\n",
       "EMPLOY1        0.00\n",
       "INCOME2        0.00\n",
       "WEIGHT2        0.00\n",
       "LASTSMK2      74.60\n",
       "ALCDAY5        0.00\n",
       "CRGVEXPT      92.01\n",
       "ECIGNOW       81.70\n",
       "LCSNUMCG      96.91\n",
       "CNCRTYP1      95.17\n",
       "dtype: float64"
      ]
     },
     "execution_count": 13,
     "metadata": {},
     "output_type": "execute_result"
    }
   ],
   "source": [
    "round(data.isna().sum()/len(data),4)*100"
   ]
  },
  {
   "cell_type": "markdown",
   "id": "bddc30f0-ed75-4696-9732-470b018abe00",
   "metadata": {},
   "source": [
    "Aunque hay muchos nulls en algunas columnas esto es normal ya que no todo el mundo fuma o tiene asma y cáncer... pero habrá que sustituirlos. Pero antes borramos más datos que son irrelevantes para nuestra predicción. "
   ]
  },
  {
   "cell_type": "code",
   "execution_count": 14,
   "id": "8bd679ef-003d-4cce-9485-3aaae0473421",
   "metadata": {},
   "outputs": [],
   "source": [
    "data = data.query('ASTHNOW==1 or ASTHNOW==2')"
   ]
  },
  {
   "cell_type": "code",
   "execution_count": 15,
   "id": "267e639f-e6c9-463b-bd9d-b4360b190cd1",
   "metadata": {},
   "outputs": [],
   "source": [
    "data = data.query('ECIGNOW==2 or ECIGNOW==1 or ECIGNOW==3')"
   ]
  },
  {
   "cell_type": "code",
   "execution_count": 16,
   "id": "86852309-dff6-4bf8-a348-130048532999",
   "metadata": {},
   "outputs": [],
   "source": [
    "data = data.query('LASTSMK2!=77 and LASTSMK2!=99 and LASTSMK2!=\"\"and LCSNUMCG!= 777 and LCSNUMCG!= 999 and LCSNUMCG!= \"\" and CNCRTYP1!=77 and CNCRTYP1!=99 and CNCRTYP1!=\"\"')"
   ]
  },
  {
   "cell_type": "code",
   "execution_count": 17,
   "id": "598a0ea4-1813-4167-a9c9-0762c222f721",
   "metadata": {},
   "outputs": [],
   "source": [
    "data.drop(['Unnamed: 0'], axis=1, inplace=True)"
   ]
  },
  {
   "cell_type": "code",
   "execution_count": 18,
   "id": "bac6ecb9-199d-47f7-9a27-c638e5482cf1",
   "metadata": {},
   "outputs": [],
   "source": [
    "data.drop(['CRGVEXPT'], axis=1, inplace=True)"
   ]
  },
  {
   "cell_type": "markdown",
   "id": "320431b2-4f06-49a1-9d3e-348439f0ec91",
   "metadata": {},
   "source": [
    "Quitamos duplicados"
   ]
  },
  {
   "cell_type": "code",
   "execution_count": 19,
   "id": "3f4e5348-4786-4e3d-838e-d5c65e1e37f2",
   "metadata": {},
   "outputs": [],
   "source": [
    "data = data.drop_duplicates()"
   ]
  },
  {
   "cell_type": "markdown",
   "id": "083ddb71-4839-41db-a713-861120e87452",
   "metadata": {},
   "source": [
    "Observamos la corrlación entre variables por si hubiese que prescindir de alguna otra variable"
   ]
  },
  {
   "cell_type": "code",
   "execution_count": 20,
   "id": "4d109d95-9bf6-49d4-b6cd-8b0801548bbb",
   "metadata": {},
   "outputs": [],
   "source": [
    "import numpy as np \n",
    "corr=data.corr()      \n",
    "mask=np.triu(np.ones_like(corr, dtype=np.bool))"
   ]
  },
  {
   "cell_type": "code",
   "execution_count": 21,
   "id": "0705ff89-50f0-4089-b017-069c1ad773b0",
   "metadata": {},
   "outputs": [
    {
     "data": {
      "image/png": "[encoded data removed]",
      "text/plain": [
       "<Figure size 792x648 with 2 Axes>"
      ]
     },
     "metadata": {
      "needs_background": "light"
     },
     "output_type": "display_data"
    }
   ],
   "source": [
    "f, ax=plt.subplots(figsize=(11, 9))                 \n",
    "cmap=sns.diverging_palette(220, 10, as_cmap=True) \n",
    "sns.heatmap(corr, mask=mask, cmap=cmap,             \n",
    "            vmax=.3, center=0, square=True,\n",
    "            linewidths=.5, cbar_kws={\"shrink\": .5});"
   ]
  },
  {
   "cell_type": "markdown",
   "id": "4cf88f48-06f0-4160-99b8-db349da7c1ff",
   "metadata": {
    "tags": []
   },
   "source": [
    "Nos damos cuenta que hay una variable que indica si ha tenido cancer de piel y otra que indica que tipo de cancer han tenido, con lo cual nos da información duplicada así que eliminamos la columna de cáncer de piel"
   ]
  },
  {
   "cell_type": "code",
   "execution_count": 22,
   "id": "54a235b5-5508-4d2b-9977-1719d59655b0",
   "metadata": {},
   "outputs": [],
   "source": [
    "data.drop(['CHCSCNCR'], axis=1, inplace=True)"
   ]
  },
  {
   "cell_type": "code",
   "execution_count": 23,
   "id": "1a1f9456-ffa4-4a4f-a378-f76e9ca866ff",
   "metadata": {},
   "outputs": [
    {
     "data": {
      "text/plain": [
       "_STATE       0.00\n",
       "DISPCODE     0.00\n",
       "CADULT1      0.00\n",
       "SEXVAR       0.00\n",
       "GENHLTH      0.00\n",
       "PHYSHLTH     0.00\n",
       "MENTHLTH     0.00\n",
       "HLTHPLN1     0.00\n",
       "CHECKUP1     0.00\n",
       "EXERANY2     0.00\n",
       "SLEPTIM1     0.00\n",
       "CVDINFR4     0.00\n",
       "CVDCRHD4     0.00\n",
       "CVDSTRK3     0.00\n",
       "ASTHNOW      0.00\n",
       "ADDEPEV3     0.00\n",
       "DIABETE4     0.00\n",
       "MARITAL      0.00\n",
       "EDUCA        0.00\n",
       "VETERAN3     0.00\n",
       "EMPLOY1      0.00\n",
       "INCOME2      0.00\n",
       "WEIGHT2      0.00\n",
       "LASTSMK2    71.31\n",
       "ALCDAY5      0.00\n",
       "ECIGNOW      0.00\n",
       "LCSNUMCG    94.20\n",
       "CNCRTYP1    95.72\n",
       "dtype: float64"
      ]
     },
     "execution_count": 23,
     "metadata": {},
     "output_type": "execute_result"
    }
   ],
   "source": [
    "round(data.isna().sum()/len(data),4)*100"
   ]
  },
  {
   "cell_type": "markdown",
   "id": "4066e3a2-e500-4007-b407-235b3bb7df4b",
   "metadata": {},
   "source": [
    "Sustituimos los nulls por ceros que se convertirán en una nueva categoría de cada variable. Esta nueva variable \"0\" reflejará \"no\". Por ejemplo: aquellas personas que tenían un null en la columna de *qué tipo de cáncer habían tenido* era por que nunca habían tenido cáncer, así que los sutituimos por \"0\" que reflejará un nuevo grupo de persona que **NO** han tenido cáncer. "
   ]
  },
  {
   "cell_type": "code",
   "execution_count": 24,
   "id": "42268d69-1d8b-491c-a926-777f2b8dc427",
   "metadata": {},
   "outputs": [],
   "source": [
    "data.loc[pd.isna(data[\"LCSNUMCG\"]), \"LCSNUMCG\"] = 0"
   ]
  },
  {
   "cell_type": "code",
   "execution_count": 25,
   "id": "8a580253-e3aa-41fd-8fc9-c29c856da310",
   "metadata": {},
   "outputs": [],
   "source": [
    "data.loc[pd.isna(data[\"CNCRTYP1\"]), \"CNCRTYP1\"] = 0"
   ]
  },
  {
   "cell_type": "code",
   "execution_count": 26,
   "id": "1d9d1bd4-bee0-4e34-b331-fd568393aa8f",
   "metadata": {},
   "outputs": [],
   "source": [
    "data.loc[pd.isna(data[\"LASTSMK2\"]), \"LASTSMK2\"] = 0"
   ]
  },
  {
   "cell_type": "code",
   "execution_count": 27,
   "id": "28855b06-3353-46bc-b981-5536cdc1e022",
   "metadata": {},
   "outputs": [
    {
     "data": {
      "text/plain": [
       "0.0"
      ]
     },
     "execution_count": 27,
     "metadata": {},
     "output_type": "execute_result"
    }
   ],
   "source": [
    "sum(round(data.isna().sum()/len(data),4)*100)"
   ]
  },
  {
   "cell_type": "markdown",
   "id": "be5023ff-180d-489d-a6da-399259b108b9",
   "metadata": {},
   "source": [
    "Ahora distinguimos las variables númericas y categóricas con el fin de poder hacer One Hot Enconding"
   ]
  },
  {
   "cell_type": "code",
   "execution_count": 28,
   "id": "4875dcc7-7d93-4122-a13f-5926b3f3e77e",
   "metadata": {},
   "outputs": [
    {
     "name": "stdout",
     "output_type": "stream",
     "text": [
      "DISPCODE es una columna catergórica con 1 categorias!\n",
      "CADULT1 es una columna catergórica con 1 categorias!\n",
      "SEXVAR es una columna catergórica con 2 categorias!\n",
      "GENHLTH es una columna catergórica con 6 categorias!\n",
      "HLTHPLN1 es una columna catergórica con 2 categorias!\n",
      "CHECKUP1 es una columna catergórica con 6 categorias!\n",
      "EXERANY2 es una columna catergórica con 2 categorias!\n",
      "CVDINFR4 es una columna catergórica con 2 categorias!\n",
      "CVDCRHD4 es una columna catergórica con 2 categorias!\n",
      "CVDSTRK3 es una columna catergórica con 2 categorias!\n",
      "ASTHNOW es una columna catergórica con 2 categorias!\n",
      "ADDEPEV3 es una columna catergórica con 2 categorias!\n",
      "DIABETE4 es una columna catergórica con 4 categorias!\n",
      "MARITAL es una columna catergórica con 6 categorias!\n",
      "EDUCA es una columna catergórica con 6 categorias!\n",
      "VETERAN3 es una columna catergórica con 2 categorias!\n",
      "EMPLOY1 es una columna catergórica con 8 categorias!\n",
      "INCOME2 es una columna catergórica con 8 categorias!\n",
      "LASTSMK2 es una columna catergórica con 9 categorias!\n",
      "ECIGNOW es una columna catergórica con 3 categorias!\n"
     ]
    }
   ],
   "source": [
    "for col in data.columns:\n",
    "    if len(data[col].unique()) < 20:\n",
    "        data[col] = data[col].astype(np.object)\n",
    "        print(f\"{col} es una columna catergórica con {len(data[col].unique())} categorias!\")  \n",
    "              "
   ]
  },
  {
   "cell_type": "code",
   "execution_count": 29,
   "id": "4e37e0fc-fa23-434e-a403-ec75b7f933d5",
   "metadata": {},
   "outputs": [
    {
     "data": {
      "text/plain": [
       "_STATE      float64\n",
       "DISPCODE     object\n",
       "CADULT1      object\n",
       "SEXVAR       object\n",
       "GENHLTH      object\n",
       "PHYSHLTH    float64\n",
       "MENTHLTH    float64\n",
       "HLTHPLN1     object\n",
       "CHECKUP1     object\n",
       "EXERANY2     object\n",
       "SLEPTIM1    float64\n",
       "CVDINFR4     object\n",
       "CVDCRHD4     object\n",
       "CVDSTRK3     object\n",
       "ASTHNOW      object\n",
       "ADDEPEV3     object\n",
       "DIABETE4     object\n",
       "MARITAL      object\n",
       "EDUCA        object\n",
       "VETERAN3     object\n",
       "EMPLOY1      object\n",
       "INCOME2      object\n",
       "WEIGHT2     float64\n",
       "LASTSMK2     object\n",
       "ALCDAY5     float64\n",
       "ECIGNOW      object\n",
       "LCSNUMCG    float64\n",
       "CNCRTYP1    float64\n",
       "dtype: object"
      ]
     },
     "execution_count": 29,
     "metadata": {},
     "output_type": "execute_result"
    }
   ],
   "source": [
    "data.dtypes"
   ]
  },
  {
   "cell_type": "code",
   "execution_count": 30,
   "id": "ea281f77-288e-4ecf-af90-07402655ebcf",
   "metadata": {},
   "outputs": [
    {
     "data": {
      "text/plain": [
       "Index(['DISPCODE', 'CADULT1', 'SEXVAR', 'GENHLTH', 'HLTHPLN1', 'CHECKUP1',\n",
       "       'EXERANY2', 'CVDINFR4', 'CVDSTRK3', 'ASTHNOW', 'ADDEPEV3', 'DIABETE4',\n",
       "       'MARITAL', 'EDUCA', 'VETERAN3', 'EMPLOY1', 'INCOME2', 'LASTSMK2',\n",
       "       'ECIGNOW'],\n",
       "      dtype='object')"
      ]
     },
     "execution_count": 30,
     "metadata": {},
     "output_type": "execute_result"
    }
   ],
   "source": [
    "cat_cols = data.drop('CVDCRHD4', axis=1).select_dtypes(object).columns\n",
    "cat_cols"
   ]
  },
  {
   "cell_type": "code",
   "execution_count": 31,
   "id": "1972502b-17de-416c-bb6a-6dcfab37c2a8",
   "metadata": {},
   "outputs": [
    {
     "data": {
      "text/plain": [
       "Index(['_STATE', 'PHYSHLTH', 'MENTHLTH', 'SLEPTIM1', 'WEIGHT2', 'ALCDAY5',\n",
       "       'LCSNUMCG', 'CNCRTYP1'],\n",
       "      dtype='object')"
      ]
     },
     "execution_count": 31,
     "metadata": {},
     "output_type": "execute_result"
    }
   ],
   "source": [
    "num_cols = data.select_dtypes(float).columns\n",
    "num_cols"
   ]
  },
  {
   "cell_type": "code",
   "execution_count": 32,
   "id": "d5bbb7a0-ff5f-4867-a298-5414bfecf441",
   "metadata": {},
   "outputs": [],
   "source": [
    "one_hot_data=pd.get_dummies(data[cat_cols], drop_first=True)   # one hot encoding categorical variables"
   ]
  },
  {
   "cell_type": "code",
   "execution_count": 33,
   "id": "59d0b952-2c15-4694-9b60-d706b5ff5ca7",
   "metadata": {},
   "outputs": [],
   "source": [
    "data['CVDCRHD4'] = data['CVDCRHD4'].astype(int)"
   ]
  },
  {
   "cell_type": "code",
   "execution_count": 34,
   "id": "e7a2a91b-9ca1-4d7f-99a4-72eb4518efc6",
   "metadata": {},
   "outputs": [],
   "source": [
    "data=pd.concat([data.select_dtypes(include=np.number), one_hot_data], axis=1)   # concat dataframes"
   ]
  },
  {
   "cell_type": "markdown",
   "id": "5a4c37b1-a9d7-4241-ba05-8ad9c19b50ce",
   "metadata": {
    "tags": []
   },
   "source": [
    "#### 8. Modelo"
   ]
  },
  {
   "cell_type": "code",
   "execution_count": 35,
   "id": "92f84723-2f70-4351-8980-0e2194c88ac9",
   "metadata": {},
   "outputs": [],
   "source": [
    "import pandas as pd\n",
    "import numpy as np\n",
    "from sklearn.model_selection import train_test_split\n",
    "from sklearn.linear_model import LogisticRegression\n",
    "from sklearn import metrics\n",
    "from sklearn.model_selection import train_test_split as tts\n",
    "from sklearn.linear_model import LinearRegression as LinReg\n",
    "from sklearn.metrics import mean_absolute_error\n",
    "from sklearn.linear_model import Lasso     \n",
    "from sklearn.linear_model import Ridge       \n",
    "from sklearn.linear_model import ElasticNet\n",
    "from sklearn.ensemble import RandomForestRegressor as RFR\n",
    "from xgboost import XGBRegressor as XGBR\n",
    "from sklearn.metrics import mean_absolute_error as mae"
   ]
  },
  {
   "cell_type": "markdown",
   "id": "0e8f4318-cbe6-46e8-87ce-f5d63a7c754d",
   "metadata": {
    "tags": []
   },
   "source": [
    "##### Undersampling"
   ]
  },
  {
   "cell_type": "markdown",
   "id": "f69fecb2-a775-4ec8-81d6-93a9cd69cf9c",
   "metadata": {},
   "source": [
    "Nuestra data no está balanceada ya que existe mucha más gente NO tiene una enfermedad de corazón, por lo cual lo ajustamos mediante la técnica de undersampling"
   ]
  },
  {
   "cell_type": "code",
   "execution_count": 36,
   "id": "fcca10e1-9490-4a2f-bdeb-8dd67da1dba6",
   "metadata": {},
   "outputs": [],
   "source": [
    "from collections import Counter\n",
    "from sklearn.datasets import make_classification\n",
    "from imblearn.under_sampling import CondensedNearestNeighbour\n",
    "from matplotlib import pyplot\n",
    "from numpy import where"
   ]
  },
  {
   "cell_type": "code",
   "execution_count": 37,
   "id": "ffd2df07-0900-4db5-87a6-1db22d6e3594",
   "metadata": {},
   "outputs": [],
   "source": [
    "counter = Counter(data)"
   ]
  },
  {
   "cell_type": "code",
   "execution_count": 38,
   "id": "4d872b68-0e93-4672-a55f-27aadb12ea09",
   "metadata": {},
   "outputs": [],
   "source": [
    "undersample = CondensedNearestNeighbour(n_neighbors=1)"
   ]
  },
  {
   "cell_type": "code",
   "execution_count": 39,
   "id": "74920a29-eb6f-4822-ab2a-3634baeb6c08",
   "metadata": {},
   "outputs": [],
   "source": [
    "y = data[['CVDCRHD4']].astype(int)\n",
    "X = data.drop(['CVDCRHD4'], axis=1)"
   ]
  },
  {
   "cell_type": "code",
   "execution_count": 40,
   "id": "34851ec5-58e0-48ed-92a8-7d1829333454",
   "metadata": {},
   "outputs": [
    {
     "data": {
      "text/plain": [
       "Counter({'CVDCRHD4': 1})"
      ]
     },
     "execution_count": 40,
     "metadata": {},
     "output_type": "execute_result"
    }
   ],
   "source": [
    "counter = Counter(y)\n",
    "counter"
   ]
  },
  {
   "cell_type": "markdown",
   "id": "a6375d02-9897-4903-b719-31f617026b2e",
   "metadata": {
    "tags": []
   },
   "source": [
    "##### Definition"
   ]
  },
  {
   "cell_type": "code",
   "execution_count": 41,
   "id": "bd06d5b2-2e9e-4c2e-b1a5-63fbaeba0f80",
   "metadata": {},
   "outputs": [],
   "source": [
    "# define the predictor variables and the response variable\n",
    "# y = data[['CVDCRHD4']].astype(int)\n",
    "# X = data.drop(['CVDCRHD4'], axis=1)"
   ]
  },
  {
   "cell_type": "code",
   "execution_count": 42,
   "id": "40ae29b0-2f74-485c-965b-da6cdc52e855",
   "metadata": {},
   "outputs": [],
   "source": [
    "#split the dataset into training (70%) and testing (30%) sets\n",
    "X_train,X_test,y_train,y_test = train_test_split(X,y['CVDCRHD4'] - 1,test_size=0.3,random_state=0) "
   ]
  },
  {
   "cell_type": "code",
   "execution_count": 43,
   "id": "949f9cf0-40f3-46f5-9c86-91cf5d062d3b",
   "metadata": {},
   "outputs": [],
   "source": [
    "from sklearn.preprocessing import StandardScaler\n",
    "scaler = StandardScaler()"
   ]
  },
  {
   "cell_type": "code",
   "execution_count": 44,
   "id": "d25f1684-70c8-44c3-b2c4-2541b3af15f5",
   "metadata": {},
   "outputs": [],
   "source": [
    "scaler.fit(X_train)\n",
    "X_train_scaled = scaler.fit_transform(X_train)\n",
    "X_test_scaled = scaler.transform(X_test)"
   ]
  },
  {
   "cell_type": "code",
   "execution_count": 45,
   "id": "e12b6d28-ca4d-48e0-bc54-354386efa537",
   "metadata": {},
   "outputs": [],
   "source": [
    "X_train_scaled, y_train = undersample.fit_resample(X_train, y_train)"
   ]
  },
  {
   "cell_type": "markdown",
   "id": "c9a0e588-8080-49f7-887f-a8a6559afec4",
   "metadata": {
    "tags": []
   },
   "source": [
    "#### 9. Classification"
   ]
  },
  {
   "cell_type": "markdown",
   "id": "137e54ac-8e7c-4fe5-9d84-807f47474bc6",
   "metadata": {},
   "source": [
    "###### Logistic Regression"
   ]
  },
  {
   "cell_type": "code",
   "execution_count": 46,
   "id": "3c5980b6-809f-44a7-aa18-3b63bd2d10f1",
   "metadata": {},
   "outputs": [],
   "source": [
    "from sklearn.linear_model import LogisticRegression\n",
    "from sklearn.svm import SVC"
   ]
  },
  {
   "cell_type": "code",
   "execution_count": 47,
   "id": "6c320d32-189d-44e3-bd6d-aae680a5a67d",
   "metadata": {},
   "outputs": [],
   "source": [
    "classification = LogisticRegression(random_state=0, solver='lbfgs',\n",
    "                  multi_class='multinomial', max_iter=50).fit(X_train_scaled, y_train)"
   ]
  },
  {
   "cell_type": "code",
   "execution_count": 48,
   "id": "f9dc5205-69e3-44dd-b1e4-b7cf827bdd85",
   "metadata": {},
   "outputs": [],
   "source": [
    "predictions = classification.predict(X_test_scaled)"
   ]
  },
  {
   "cell_type": "code",
   "execution_count": 49,
   "id": "8f6f988e-7c0e-4947-8447-f56865b91d75",
   "metadata": {},
   "outputs": [
    {
     "data": {
      "text/plain": [
       "0.6610381488430269"
      ]
     },
     "execution_count": 49,
     "metadata": {},
     "output_type": "execute_result"
    }
   ],
   "source": [
    "classification.score(X_test_scaled, y_test)"
   ]
  },
  {
   "cell_type": "code",
   "execution_count": 50,
   "id": "7eea504a-65b4-4085-9751-608f883fd8bc",
   "metadata": {},
   "outputs": [
    {
     "data": {
      "text/plain": [
       "array([[ 67,  16],\n",
       "       [526, 990]], dtype=int64)"
      ]
     },
     "execution_count": 50,
     "metadata": {},
     "output_type": "execute_result"
    }
   ],
   "source": [
    "from sklearn.metrics import confusion_matrix\n",
    "confusion_matrix(y_test, predictions)"
   ]
  },
  {
   "cell_type": "markdown",
   "id": "c9c84e26-d4dc-468b-891b-269e4f6ba1a9",
   "metadata": {
    "tags": []
   },
   "source": [
    "###### Random Forest"
   ]
  },
  {
   "cell_type": "code",
   "execution_count": 51,
   "id": "6b6ff834-4e7d-4857-acc6-2573dc2940c6",
   "metadata": {},
   "outputs": [
    {
     "ename": "NameError",
     "evalue": "name 'Clasiffier' is not defined",
     "output_type": "error",
     "traceback": [
      "\u001b[1;31m---------------------------------------------------------------------------\u001b[0m",
      "\u001b[1;31mNameError\u001b[0m                                 Traceback (most recent call last)",
      "Input \u001b[1;32mIn [51]\u001b[0m, in \u001b[0;36m<cell line: 1>\u001b[1;34m()\u001b[0m\n\u001b[1;32m----> 1\u001b[0m \u001b[43mClasiffier\u001b[49m\n",
      "\u001b[1;31mNameError\u001b[0m: name 'Clasiffier' is not defined"
     ]
    }
   ],
   "source": [
    "Clasiffier "
   ]
  },
  {
   "cell_type": "code",
   "execution_count": 52,
   "id": "083da495-9060-44ae-90ba-6e1a4752581c",
   "metadata": {},
   "outputs": [],
   "source": [
    "# Import the model we are using\n",
    "from sklearn.ensemble import RandomForestClassifier\n",
    "# Instantiate model with 1000 decision trees\n",
    "rf = RandomForestClassifier(n_estimators = 100, random_state = 0)\n",
    "# Train the model on training data\n",
    "rf.fit(X_train_scaled, y_train);"
   ]
  },
  {
   "cell_type": "code",
   "execution_count": 53,
   "id": "b0e04175-eb79-4361-a8ca-578cb1f640c9",
   "metadata": {},
   "outputs": [
    {
     "data": {
      "text/plain": [
       "0.1131957473420888"
      ]
     },
     "execution_count": 53,
     "metadata": {},
     "output_type": "execute_result"
    }
   ],
   "source": [
    "# Use the forest's predict method on the test data\n",
    "predictions = rf.predict(X_test_scaled)\n",
    "rf.score(X_test_scaled, y_test)"
   ]
  },
  {
   "cell_type": "markdown",
   "id": "4a7ae964-8347-4aa5-b1b6-b70db3ed56be",
   "metadata": {},
   "source": [
    "###### KNN"
   ]
  },
  {
   "cell_type": "code",
   "execution_count": 54,
   "id": "cd8e99cc-0066-452e-a3a9-272bfc1b414c",
   "metadata": {},
   "outputs": [
    {
     "data": {
      "text/plain": [
       "KNeighborsClassifier(n_neighbors=4)"
      ]
     },
     "execution_count": 54,
     "metadata": {},
     "output_type": "execute_result"
    }
   ],
   "source": [
    "from sklearn.neighbors import KNeighborsClassifier\n",
    "model = KNeighborsClassifier(n_neighbors=4)\n",
    "model.fit(X_train_scaled, y_train)"
   ]
  },
  {
   "cell_type": "code",
   "execution_count": 55,
   "id": "7eec8a7e-088c-4207-9771-0b0c6c652af9",
   "metadata": {},
   "outputs": [
    {
     "data": {
      "text/plain": [
       "0.9480925578486554"
      ]
     },
     "execution_count": 55,
     "metadata": {},
     "output_type": "execute_result"
    }
   ],
   "source": [
    "predictions = model.predict(X_test_scaled)\n",
    "score_knn = model.score(X_test_scaled, y_test)\n",
    "score_knn"
   ]
  },
  {
   "cell_type": "code",
   "execution_count": 56,
   "id": "b3dff70e",
   "metadata": {},
   "outputs": [
    {
     "data": {
      "text/plain": [
       "array([[   0,   83],\n",
       "       [   0, 1516]], dtype=int64)"
      ]
     },
     "execution_count": 56,
     "metadata": {},
     "output_type": "execute_result"
    }
   ],
   "source": [
    "from sklearn.metrics import confusion_matrix\n",
    "confusion_matrix(y_test, predictions)"
   ]
  },
  {
   "cell_type": "code",
   "execution_count": 57,
   "id": "5c4e0599",
   "metadata": {},
   "outputs": [
    {
     "name": "stdout",
     "output_type": "stream",
     "text": [
      "0.9481\n",
      "0.9481\n",
      "1.0\n"
     ]
    }
   ],
   "source": [
    "#print accuracy of model\n",
    "print(round(metrics.accuracy_score(y_test, predictions),4))\n",
    "\n",
    "#print precision value of model\n",
    "print(round(metrics.precision_score(y_test, predictions),4))\n",
    "\n",
    "#print recall value of model\n",
    "print(round(metrics.recall_score(y_test, predictions),4))"
   ]
  },
  {
   "cell_type": "markdown",
   "id": "86f13f1b-9297-4df6-9183-ec5e4977de4f",
   "metadata": {},
   "source": [
    "###### SVC"
   ]
  },
  {
   "cell_type": "code",
   "execution_count": 58,
   "id": "ae133746-64eb-4a60-afc2-5dcafadd75f1",
   "metadata": {},
   "outputs": [],
   "source": [
    "svc = SVC(kernel='rbf')"
   ]
  },
  {
   "cell_type": "code",
   "execution_count": 59,
   "id": "e54aab54-a264-463c-9a47-c470187e3bea",
   "metadata": {},
   "outputs": [
    {
     "name": "stdout",
     "output_type": "stream",
     "text": [
      "Score:  0.9480925578486554\n"
     ]
    }
   ],
   "source": [
    "svc.fit(X_train_scaled, y_train)\n",
    "score = svc.score(X_test_scaled, y_test)\n",
    "print(\"Score: \", score)"
   ]
  },
  {
   "cell_type": "code",
   "execution_count": 60,
   "id": "c52bfec4-1420-4936-995a-1748ac32239f",
   "metadata": {},
   "outputs": [],
   "source": [
    "predictions = svc.predict(X_test_scaled)"
   ]
  },
  {
   "cell_type": "code",
   "execution_count": 61,
   "id": "30a814c0-b2ea-457c-8668-e68b4c6ad3b5",
   "metadata": {},
   "outputs": [
    {
     "data": {
      "text/plain": [
       "array([1, 1, 1, ..., 1, 1, 1])"
      ]
     },
     "execution_count": 61,
     "metadata": {},
     "output_type": "execute_result"
    }
   ],
   "source": [
    "predictions"
   ]
  },
  {
   "cell_type": "code",
   "execution_count": null,
   "id": "62119d7b-cd02-47df-a935-fc3a72d993a5",
   "metadata": {},
   "outputs": [],
   "source": [
    "def prob_to_class(predictions_prob, threshold=0.748):\n",
    "    predictions_class = []\n",
    "    for prob in predictions_prob:\n",
    "        if prob > threshold:\n",
    "            predictions_class.append(1)\n",
    "        else:\n",
    "            predictions_class.append(0)\n",
    "    return predictions_class"
   ]
  },
  {
   "cell_type": "code",
   "execution_count": null,
   "id": "b7a81c46-e11e-4ccd-ad15-6134902708b5",
   "metadata": {},
   "outputs": [],
   "source": [
    "(y_test==1).sum()"
   ]
  },
  {
   "cell_type": "code",
   "execution_count": null,
   "id": "137f2b2b-e19a-4530-a50e-0ca1e8ab32a4",
   "metadata": {},
   "outputs": [],
   "source": [
    "predictions_class = prob_to_class(predictions)"
   ]
  },
  {
   "cell_type": "code",
   "execution_count": 62,
   "id": "51cfefc2-48bf-497a-9a0c-a9fa9bbc27c5",
   "metadata": {},
   "outputs": [
    {
     "data": {
      "text/plain": [
       "array([[   0,   83],\n",
       "       [   0, 1516]], dtype=int64)"
      ]
     },
     "execution_count": 62,
     "metadata": {},
     "output_type": "execute_result"
    }
   ],
   "source": [
    "from sklearn.metrics import confusion_matrix\n",
    "confusion_matrix(y_test, predictions)"
   ]
  },
  {
   "cell_type": "code",
   "execution_count": null,
   "id": "44ea2745-aed5-471e-9c5f-1078592d7df6",
   "metadata": {},
   "outputs": [],
   "source": [
    "pd.Series(y_test).value_counts()"
   ]
  },
  {
   "cell_type": "code",
   "execution_count": null,
   "id": "346a93d8-ad6e-4df0-ba73-17b25419eb71",
   "metadata": {},
   "outputs": [],
   "source": [
    "#print accuracy of model\n",
    "print(round(metrics.accuracy_score(y_test, predictions),4))\n",
    "\n",
    "#print precision value of model\n",
    "print(round(metrics.precision_score(y_test, predictions),4))\n",
    "\n",
    "#print recall value of model\n",
    "print(round(metrics.recall_score(y_test, predictions),4))"
   ]
  },
  {
   "cell_type": "markdown",
   "id": "f21ab284-0352-41fd-b9ad-2823f2b9dc0e",
   "metadata": {
    "tags": []
   },
   "source": [
    "#### 10. AUC"
   ]
  },
  {
   "cell_type": "code",
   "execution_count": null,
   "id": "501a24fc-a858-4e95-b3f4-0fd2daf8e2b2",
   "metadata": {},
   "outputs": [],
   "source": [
    "auc = metrics.roc_auc_score(y_test, predictions)\n",
    "print (auc)"
   ]
  },
  {
   "cell_type": "code",
   "execution_count": null,
   "id": "ade6813b-63f4-4d87-b74d-ac8e58d29a5c",
   "metadata": {},
   "outputs": [],
   "source": [
    "pd.Series(y_test).value_counts()"
   ]
  },
  {
   "cell_type": "code",
   "execution_count": null,
   "id": "b2ac0200-5a25-4385-8c2b-dd428e9a754e",
   "metadata": {},
   "outputs": [],
   "source": [
    "from sklearn import metrics\n",
    "y_test = np.array(y_test)+ 4 \n",
    "y_pred = np.array(predictions) - 1\n",
    "\n",
    "auc = metrics.roc_auc_score(y_test, predictions)\n",
    "\n",
    "false_positive_rate, true_positive_rate, thresolds = metrics.roc_curve(y_test, predictions)\n",
    "\n",
    "plt.figure(figsize=(10, 8), dpi=100)\n",
    "plt.axis('scaled')\n",
    "plt.xlim([0, 1])\n",
    "plt.ylim([0, 1])\n",
    "plt.title(\"AUC & ROC Curve\")\n",
    "plt.plot(false_positive_rate, true_positive_rate, 'g')\n",
    "plt.fill_between(false_positive_rate, true_positive_rate, facecolor='lightgreen', alpha=0.7)\n",
    "plt.text(0.95, 0.05, 'AUC = %0.4f' % auc, ha='right', fontsize=12, weight='bold', color='blue')\n",
    "plt.xlabel(\"False Positive Rate\")\n",
    "plt.ylabel(\"True Positive Rate\")\n",
    "plt.show()"
   ]
  },
  {
   "cell_type": "code",
   "execution_count": null,
   "id": "95ed2b30",
   "metadata": {},
   "outputs": [],
   "source": []
  }
 ],
 "metadata": {
  "kernelspec": {
   "display_name": "Python 3 (ipykernel)",
   "language": "python",
   "name": "python3"
  },
  "language_info": {
   "codemirror_mode": {
    "name": "ipython",
    "version": 3
   },
   "file_extension": ".py",
   "mimetype": "text/x-python",
   "name": "python",
   "nbconvert_exporter": "python",
   "pygments_lexer": "ipython3",
   "version": "3.9.12"
  },
  "toc": {
   "base_numbering": 1,
   "nav_menu": {},
   "number_sections": true,
   "sideBar": true,
   "skip_h1_title": false,
   "title_cell": "Table of Contents",
   "title_sidebar": "Contents",
   "toc_cell": false,
   "toc_position": {},
   "toc_section_display": true,
   "toc_window_display": false
  }
 },
 "nbformat": 4,
 "nbformat_minor": 5
}
